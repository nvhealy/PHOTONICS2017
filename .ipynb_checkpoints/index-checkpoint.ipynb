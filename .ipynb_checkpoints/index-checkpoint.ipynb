{
 "cells": [
  {
   "cell_type": "markdown",
   "metadata": {},
   "source": [
    "# Interactive Notes for PHOTONICS  \n",
    "  \n",
    "Once you open the notebook make sure to Click on 'Cell' and the 'Run All'.  \n",
    "  \n",
    "## Index  \n",
    "  \n",
    "[Optical Fibres](./sci/opticalFibres.ipynb)  \n",
    "[The Characteristic Equation](./sci/characteristicEquation.ipynb)  \n",
    "[Bessel Equations](./sci/besselEquations.ipynb)  \n",
    "[Dispersion](./sci/Dispersion.ipynb)  \n"
   ]
  },
  {
   "cell_type": "markdown",
   "metadata": {
    "collapsed": true
   },
   "source": [
    "You can convert these notebooks to pdfs using Pandoc and your Latex installation.  Simply install Pandoc from [Pandoc](http://pandoc.org/installing.html) and click File -> Download as -> PDF via Latex."
   ]
  }
 ],
 "metadata": {
  "anaconda-cloud": {},
  "kernelspec": {
   "display_name": "Python [default]",
   "language": "python",
   "name": "python3"
  },
  "language_info": {
   "codemirror_mode": {
    "name": "ipython",
    "version": 3
   },
   "file_extension": ".py",
   "mimetype": "text/x-python",
   "name": "python",
   "nbconvert_exporter": "python",
   "pygments_lexer": "ipython3",
   "version": "3.5.2"
  }
 },
 "nbformat": 4,
 "nbformat_minor": 1
}
