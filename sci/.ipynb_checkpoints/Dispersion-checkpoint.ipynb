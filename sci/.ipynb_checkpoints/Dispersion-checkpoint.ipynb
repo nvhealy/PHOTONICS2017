{
 "cells": [
  {
   "cell_type": "code",
   "execution_count": null,
   "metadata": {
    "collapsed": true
   },
   "outputs": [],
   "source": [
    "%matplotlib inline\n",
    "import numpy as np\n",
    "from scipy.special import jn, jn_zeros, yn\n",
    "import matplotlib.pyplot as plt\n",
    "from mpl_toolkits.mplot3d import Axes3D\n",
    "from IPython.display import Image, display\n",
    "from ipywidgets import interact, FloatText\n",
    "# Positions on the drum surface are specified in polar co-ordinates\n",
    "\n"
   ]
  },
  {
   "cell_type": "markdown",
   "metadata": {},
   "source": [
    "# Dispersion  \n",
    "  \n",
    "Dispersion  represents  a  broad  class  of  phenomena  related  to  the  fact  that  the  velocity  of  the \n",
    "electromagnetic  wave  depends  on  the  wavelength. There are $2$ main types:  \n",
    "  \n",
    "* Modal dispersion\n",
    "* Chromatic dispersion\n",
    "  \n",
    "Dispersion is an issue in fibre optics as it means that pulses broaden and the bandwidth of the system is limited."
   ]
  },
  {
   "cell_type": "code",
   "execution_count": null,
   "metadata": {
    "collapsed": false
   },
   "outputs": [
    {
     "data": {
      "text/html": [
       "<center><img src=\"../img/dispersion.png\" width=\"70%\"></center>"
      ],
      "text/plain": [
       "<IPython.core.display.HTML object>"
      ]
     },
     "metadata": {},
     "output_type": "display_data"
    }
   ],
   "source": [
    "%%html\n",
    "<center><img src=\"../img/dispersion.png\" width=\"70%\"></center>"
   ]
  },
  {
   "cell_type": "code",
   "execution_count": null,
   "metadata": {
    "collapsed": false
   },
   "outputs": [
    {
     "data": {
      "text/html": [
       "<script>\n",
       "    // AUTORUN ALL CELLS ON NOTEBOOK-LOAD!\n",
       "    require(\n",
       "        ['base/js/namespace', 'jquery'], \n",
       "        function(jupyter, $) {\n",
       "            $(jupyter.events).on(\"kernel_ready.Kernel\", function () {\n",
       "                console.log(\"Auto-running all cells-below...\");\n",
       "                jupyter.actions.call('jupyter-notebook:run-all-cells-below');\n",
       "                jupyter.actions.call('jupyter-notebook:save-notebook');\n",
       "            });\n",
       "        }\n",
       "    );\n",
       "</script>"
      ],
      "text/plain": [
       "<IPython.core.display.HTML object>"
      ]
     },
     "metadata": {},
     "output_type": "display_data"
    }
   ],
   "source": [
    "%%html\n",
    "<script>\n",
    "    // AUTORUN ALL CELLS ON NOTEBOOK-LOAD!\n",
    "    require(\n",
    "        ['base/js/namespace', 'jquery'], \n",
    "        function(jupyter, $) {\n",
    "            $(jupyter.events).on(\"kernel_ready.Kernel\", function () {\n",
    "                console.log(\"Auto-running all cells-below...\");\n",
    "                jupyter.actions.call('jupyter-notebook:run-all-cells-below');\n",
    "                jupyter.actions.call('jupyter-notebook:save-notebook');\n",
    "            });\n",
    "        }\n",
    "    );\n",
    "</script>"
   ]
  },
  {
   "cell_type": "code",
   "execution_count": null,
   "metadata": {
    "collapsed": false
   },
   "outputs": [
    {
     "data": {
      "text/html": [
       "<script>\n",
       "code_show=true; \n",
       "function code_toggle() {\n",
       " if (code_show){\n",
       " $('div.input').hide();\n",
       " } else {\n",
       " $('div.input').show();\n",
       " }\n",
       " code_show = !code_show\n",
       "} \n",
       "$( document ).ready(code_toggle);\n",
       "</script>\n",
       "The raw code for this IPython notebook is by default hidden for easier reading.\n",
       "To toggle on/off the raw code, click <a href=\"javascript:code_toggle()\">here</a>"
      ],
      "text/plain": [
       "<IPython.core.display.HTML object>"
      ]
     },
     "metadata": {},
     "output_type": "display_data"
    }
   ],
   "source": [
    "%%html\n",
    "<script>\n",
    "code_show=true; \n",
    "function code_toggle() {\n",
    " if (code_show){\n",
    " $('div.input').hide();\n",
    " } else {\n",
    " $('div.input').show();\n",
    " }\n",
    " code_show = !code_show\n",
    "} \n",
    "$( document ).ready(code_toggle);\n",
    "</script>\n",
    "The raw code for this IPython notebook is by default hidden for easier reading.\n",
    "To toggle on/off the raw code, click <a href=\"javascript:code_toggle()\">here</a>"
   ]
  },
  {
   "cell_type": "markdown",
   "metadata": {},
   "source": [
    "## Modal Dispersion  \n",
    "Each solution for our characteristic equation is a mode and each mode has a discrete propagation constant $\\beta$. Therefore as each mode travels at a different speed the arival time for each is different. This has the effect of broadening the pulse."
   ]
  },
  {
   "cell_type": "markdown",
   "metadata": {
    "collapsed": true
   },
   "source": [
    "## Chromatic Dispersion \n",
    "Chromatic dispersion is the result wavelengths traveling at different speeds and arriving at their destination at slightly different times. It is what causes rainbows - sunlight is dispersed by droplets of water in the air. In optical fibres, there are $2$ important forms of chromatic dispersion.  \n",
    "* Material Dispersion \n",
    "* Waveguide Dispersion"
   ]
  },
  {
   "cell_type": "markdown",
   "metadata": {},
   "source": [
    "### Material Dispersion  \n",
    "A dispersive material, i.e. a material whose refractive index is wavelength dependent, must be absorptive and must exhibit an absorption coefficient that is also wavelength dependent. The dispersion can be decribed using the Kramer-Kronig relation, however, as optical waveguides are used in the transparent range of their transmission spectrum, the Sellmeier equation is an excellent approximation  \n",
    "  \n",
    "$$ n^{2} = 1 + \\dfrac{B_{1}\\lambda^{2}}{\\lambda^{2} - C_{1}}+\\dfrac{B_{2}\\lambda^{2}}{\\lambda^{2} - C_{2}}+\\dfrac{B_{3}\\lambda^{2}}{\\lambda^{2} - C_{3}}$$\n",
    "  \n",
    "Where $B_{n}$ and $C_{n}$ are the Sellmeier coefficients."
   ]
  },
  {
   "cell_type": "code",
   "execution_count": null,
   "metadata": {
    "collapsed": false
   },
   "outputs": [
    {
     "data": {
      "text/html": [
       "\n",
       "<tbody><tr>\n",
       "<th>Material</th>\n",
       "<th>B<sub>1</sub></th>\n",
       "<th>B<sub>2</sub></th>\n",
       "<th>B<sub>3</sub></th>\n",
       "<th>C<sub>1</sub>, µm<sup>2</sup></th>\n",
       "<th>C<sub>2</sub>, µm<sup>2</sup></th>\n",
       "<th>C<sub>3</sub>, µm<sup>2</sup></th>\n",
       "</tr>\n",
       "<tr>\n",
       "<td><a href=\"https://en.wikipedia.org/wiki/Borosilicate_glass\" title=\"Borosilicate glass\">borosilicate</a> <a href=\"https://en.wikipedia.org/wiki/Crown_glass_(optics)\" title=\"Crown glass (optics)\">crown glass</a><br>\n",
       "(known as <i>BK7</i>)</td>\n",
       "<td>1.03961212</td>\n",
       "<td>0.231792344</td>\n",
       "<td>1.01046945</td>\n",
       "<td>6.00069867×10<sup>−3</sup></td>\n",
       "<td>2.00179144×10<sup>−2</sup></td>\n",
       "<td>103.560653</td>\n",
       "</tr>\n",
       "<tr>\n",
       "<td>sapphire<br>\n",
       "(for <a href=\"https://en.wikipedia.org/wiki/Ordinary_wave\" class=\"mw-redirect\" title=\"Ordinary wave\">ordinary wave</a>)</td>\n",
       "<td>1.43134930</td>\n",
       "<td>0.65054713</td>\n",
       "<td>5.3414021</td>\n",
       "<td>5.2799261×10<sup>−3</sup></td>\n",
       "<td>1.42382647×10<sup>−2</sup></td>\n",
       "<td>325.017834</td>\n",
       "</tr>\n",
       "<tr>\n",
       "<td>sapphire<br>\n",
       "(for <a href=\"https://en.wikipedia.org/wiki/Extraordinary_wave\" class=\"mw-redirect\" title=\"Extraordinary wave\">extraordinary wave</a>)</td>\n",
       "<td>1.5039759</td>\n",
       "<td>0.55069141</td>\n",
       "<td>6.5927379</td>\n",
       "<td>5.48041129×10<sup>−3</sup></td>\n",
       "<td>1.47994281×10<sup>−2</sup></td>\n",
       "<td>402.89514</td>\n",
       "</tr>\n",
       "<tr>\n",
       "<td><a href=\"https://en.wikipedia.org/wiki/Fused_quartz\" title=\"Fused quartz\">fused silica</a></td>\n",
       "<td>0.696166300</td>\n",
       "<td>0.407942600</td>\n",
       "<td>0.897479400</td>\n",
       "<td>4.67914826×10<sup>−3</sup></td>\n",
       "<td>1.35120631×10<sup>−2</sup></td>\n",
       "<td>97.9340025</td>\n",
       "</tr>\n",
       "</tbody>"
      ],
      "text/plain": [
       "<IPython.core.display.HTML object>"
      ]
     },
     "metadata": {},
     "output_type": "display_data"
    }
   ],
   "source": [
    "%%html\n",
    "\n",
    "<tbody><tr>\n",
    "<th>Material</th>\n",
    "<th>B<sub>1</sub></th>\n",
    "<th>B<sub>2</sub></th>\n",
    "<th>B<sub>3</sub></th>\n",
    "<th>C<sub>1</sub>, µm<sup>2</sup></th>\n",
    "<th>C<sub>2</sub>, µm<sup>2</sup></th>\n",
    "<th>C<sub>3</sub>, µm<sup>2</sup></th>\n",
    "</tr>\n",
    "<tr>\n",
    "<td><a href=\"https://en.wikipedia.org/wiki/Borosilicate_glass\" title=\"Borosilicate glass\">borosilicate</a> <a href=\"https://en.wikipedia.org/wiki/Crown_glass_(optics)\" title=\"Crown glass (optics)\">crown glass</a><br>\n",
    "(known as <i>BK7</i>)</td>\n",
    "<td>1.03961212</td>\n",
    "<td>0.231792344</td>\n",
    "<td>1.01046945</td>\n",
    "<td>6.00069867×10<sup>−3</sup></td>\n",
    "<td>2.00179144×10<sup>−2</sup></td>\n",
    "<td>103.560653</td>\n",
    "</tr>\n",
    "<tr>\n",
    "<td>sapphire<br>\n",
    "(for <a href=\"https://en.wikipedia.org/wiki/Ordinary_wave\" class=\"mw-redirect\" title=\"Ordinary wave\">ordinary wave</a>)</td>\n",
    "<td>1.43134930</td>\n",
    "<td>0.65054713</td>\n",
    "<td>5.3414021</td>\n",
    "<td>5.2799261×10<sup>−3</sup></td>\n",
    "<td>1.42382647×10<sup>−2</sup></td>\n",
    "<td>325.017834</td>\n",
    "</tr>\n",
    "<tr>\n",
    "<td>sapphire<br>\n",
    "(for <a href=\"https://en.wikipedia.org/wiki/Extraordinary_wave\" class=\"mw-redirect\" title=\"Extraordinary wave\">extraordinary wave</a>)</td>\n",
    "<td>1.5039759</td>\n",
    "<td>0.55069141</td>\n",
    "<td>6.5927379</td>\n",
    "<td>5.48041129×10<sup>−3</sup></td>\n",
    "<td>1.47994281×10<sup>−2</sup></td>\n",
    "<td>402.89514</td>\n",
    "</tr>\n",
    "<tr>\n",
    "<td><a href=\"https://en.wikipedia.org/wiki/Fused_quartz\" title=\"Fused quartz\">fused silica</a></td>\n",
    "<td>0.696166300</td>\n",
    "<td>0.407942600</td>\n",
    "<td>0.897479400</td>\n",
    "<td>4.67914826×10<sup>−3</sup></td>\n",
    "<td>1.35120631×10<sup>−2</sup></td>\n",
    "<td>97.9340025</td>\n",
    "</tr>\n",
    "</tbody>\n"
   ]
  },
  {
   "cell_type": "code",
   "execution_count": null,
   "metadata": {
    "collapsed": false
   },
   "outputs": [],
   "source": [
    "\n",
    "def Sellmeier(B1, B2, B3, C1, C2, C3):\n",
    "    lam = np.arange(1,2,0.01)\n",
    "    index = np.sqrt(1 + (B1*lam**2)/((lam**2)-C1)+(B2*lam**2)/((lam**2)-C2)+(B3*lam**2)/((lam**2)-C3))\n",
    "    plt.plot(lam, index)\n",
    "    plt.xlabel(\"Wavelength (micron)\")\n",
    "    plt.ylabel(\"n\")\n",
    "    plt.show()"
   ]
  },
  {
   "cell_type": "code",
   "execution_count": null,
   "metadata": {
    "collapsed": false,
    "scrolled": true
   },
   "outputs": [],
   "source": [
    "interact(Sellmeier, B1=FloatText(\n",
    "    value=1.03961212,\n",
    "    description='B1:',\n",
    "    disabled=False,\n",
    "    color='black'\n",
    "),\n",
    "B2=FloatText(\n",
    "    value=0.231792344,\n",
    "    description='B2:',\n",
    "    disabled=False,\n",
    "    color='black'\n",
    "),\n",
    "B3=FloatText(\n",
    "    value=1.01046945,\n",
    "    description='B3:',\n",
    "    disabled=False,\n",
    "    color='black'\n",
    "),\n",
    "C1=FloatText(\n",
    "    value=6.00069867e-3,\n",
    "    description='C1:',\n",
    "    disabled=False,\n",
    "    color='black'\n",
    "),\n",
    "C2=FloatText(\n",
    "    value=2.00179144e-2,\n",
    "    description='C2:',\n",
    "    disabled=False,\n",
    "    color='black'\n",
    "),\n",
    "C3=FloatText(\n",
    "    value=103.560653,\n",
    "    description='C3:',\n",
    "    disabled=False,\n",
    "    color='black'\n",
    ")\n",
    ")\n"
   ]
  }
 ],
 "metadata": {
  "anaconda-cloud": {},
  "kernelspec": {
   "display_name": "Python [default]",
   "language": "python",
   "name": "python3"
  },
  "language_info": {
   "codemirror_mode": {
    "name": "ipython",
    "version": 3
   },
   "file_extension": ".py",
   "mimetype": "text/x-python",
   "name": "python",
   "nbconvert_exporter": "python",
   "pygments_lexer": "ipython3",
   "version": "3.5.2"
  },
  "widgets": {
   "state": {
    "ca6b5c3179cf4b50a20062e429f028d5": {
     "views": [
      {
       "cell_index": 10
      }
     ]
    }
   },
   "version": "1.2.0"
  }
 },
 "nbformat": 4,
 "nbformat_minor": 2
}
