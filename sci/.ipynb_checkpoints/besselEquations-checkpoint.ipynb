{
 "cells": [
  {
   "cell_type": "code",
   "execution_count": null,
   "metadata": {
    "collapsed": true
   },
   "outputs": [],
   "source": [
    "%matplotlib inline\n",
    "import numpy as np\n",
    "from scipy.special import jn, jn_zeros, yn\n",
    "import matplotlib.pyplot as plt\n",
    "from mpl_toolkits.mplot3d import Axes3D\n",
    "from IPython.display import Image, display\n",
    "from ipywidgets import interact\n",
    "# Positions on the drum surface are specified in polar co-ordinates\n",
    "\n"
   ]
  },
  {
   "cell_type": "markdown",
   "metadata": {},
   "source": [
    "# Cylindrical harmonics (modes)  \n",
    "  \n",
    "Harmonics on circular membranes are described by Bessel functions with integer order. A common example is the vibrational modes of a drum. In this notebook, the solutions to the differntial Bessel equation for a drum are explored. These modes are very simillar to those for the modes found in an optical fibre. "
   ]
  },
  {
   "cell_type": "code",
   "execution_count": null,
   "metadata": {
    "collapsed": false
   },
   "outputs": [],
   "source": [
    "%%html\n",
    "<script>\n",
    "    // AUTORUN ALL CELLS ON NOTEBOOK-LOAD!\n",
    "    require(\n",
    "        ['base/js/namespace', 'jquery'], \n",
    "        function(jupyter, $) {\n",
    "            $(jupyter.events).on(\"kernel_ready.Kernel\", function () {\n",
    "                console.log(\"Auto-running all cells-below...\");\n",
    "                jupyter.actions.call('jupyter-notebook:run-all-cells-below');\n",
    "                jupyter.actions.call('jupyter-notebook:save-notebook');\n",
    "            });\n",
    "        }\n",
    "    );\n",
    "</script>"
   ]
  },
  {
   "cell_type": "code",
   "execution_count": null,
   "metadata": {
    "collapsed": false
   },
   "outputs": [],
   "source": [
    "%%html\n",
    "<script>\n",
    "code_show=true; \n",
    "function code_toggle() {\n",
    " if (code_show){\n",
    " $('div.input').hide();\n",
    " } else {\n",
    " $('div.input').show();\n",
    " }\n",
    " code_show = !code_show\n",
    "} \n",
    "$( document ).ready(code_toggle);\n",
    "</script>\n",
    "The raw code for this IPython notebook is by default hidden for easier reading.\n",
    "To toggle on/off the raw code, click <a href=\"javascript:code_toggle()\">here</a>"
   ]
  },
  {
   "cell_type": "code",
   "execution_count": null,
   "metadata": {
    "collapsed": true
   },
   "outputs": [],
   "source": [
    "def displacement(l, m, r, theta):\n",
    "    \"\"\"\n",
    "    Calculate the displacement of the drum membrane at (r, theta; t=0)\n",
    "    in the normal mode described by integers n >= 0, 0 < m <= mmax.\n",
    "\n",
    "    \"\"\"\n",
    "    mmax = 5\n",
    "    # Pick off the mth zero of Bessel function Jn\n",
    "    k = jn_zeros(l, mmax+1)[m]\n",
    "    return np.sin(l*theta) * jn(l, r*k)\n",
    "\n",
    "def fig(l, m):\n",
    "    m-=1\n",
    "    r = np.linspace(0, 1, 100)\n",
    "    theta = np.linspace(0, 2 * np.pi, 100)\n",
    "    # Create arrays of cartesian co-ordinates (x, y) ...\n",
    "    x = np.array([rr*np.cos(theta) for rr in r])\n",
    "    y = np.array([rr*np.sin(theta) for rr in r])\n",
    "    z = np.array([displacement(l, m, rr, theta) for rr in r])\n",
    "    fig = plt.figure()\n",
    "    CS = plt.contour(x, y, z)\n",
    "    plt.clabel(CS, inline=1, fontsize=10)\n",
    "    #ax = fig.gca(projection='3d')\n",
    "    #ax.plot_surface(x, y, z, cmap=plt.cm.YlGnBu_r)\n",
    "    plt.axes().set_aspect('equal', 'datalim')\n",
    "\n",
    "    plt.show()"
   ]
  },
  {
   "cell_type": "markdown",
   "metadata": {},
   "source": [
    "Friedrich Wilhelm Bessel a German mathematician developed the differential Bessel equation to describe the vibrations on a circular membrane.  \n",
    "  \n",
    "## The differential Bessel equation  \n",
    "  \n",
    "$$ \\dfrac{\\partial^{2}R(r)}{\\partial r^{2}}+\\dfrac{1}{r}\\dfrac{\\partial R(r)}{\\partial r}+\\left(k^{2}-\\dfrac{l^{2}}{r^{2}}\\right)R(r)=0 $$  \n",
    "  \n",
    "where $r$ is the radius and $k= \\omega/v$.  \n",
    "  \n",
    "This has general solution:  \n",
    "  \n",
    "$$ R(r) = AJ_{l}(kr) + BY_{l}(kr) $$  \n",
    "  \n",
    "where $J$ and $Y$ are Bessel functions of order $l$. These are plotted below  \n",
    "  \n",
    "  \n",
    "\n",
    "  "
   ]
  },
  {
   "cell_type": "code",
   "execution_count": null,
   "metadata": {
    "collapsed": false,
    "scrolled": true
   },
   "outputs": [],
   "source": [
    "\n",
    "x = np.arange(0,10,0.01)\n",
    "\n",
    "y = jn(0,x)\n",
    "y2 = jn(1,x)\n",
    "y3 = jn(2,x)\n",
    "plt.figure(1)\n",
    "plt.plot(x,y, x,y2, x,y3)\n",
    "plt.grid()\n",
    "plt.xlabel('r')\n",
    "plt.ylabel('J_{l}(r)')\n",
    "plt.annotate('l=0', xy=(1, 0.8), xytext=(1.5, 0.9),\n",
    "            arrowprops=dict(facecolor='black', shrink=0.001),\n",
    "            )\n",
    "plt.annotate('l=1', xy=(2, 0.6), xytext=(2.5, 0.7),\n",
    "            arrowprops=dict(facecolor='black', shrink=0.001),\n",
    "            )\n",
    "plt.annotate('l=2', xy=(3, 0.5), xytext=(3.5, 0.6),\n",
    "            arrowprops=dict(facecolor='black', shrink=0.001),\n",
    "            )\n",
    "yk = yn(0,x)\n",
    "yk2 = yn(1,x)\n",
    "yk3 = yn(2,x)\n",
    "\n",
    "plt.figure(2)\n",
    "plt.plot(x, yk, x,yk2, x,yk3)\n",
    "\n",
    "\n",
    "plt.grid()\n",
    "plt.ylim(-2, 1)\n",
    "#plt.xlim(0, 3)\n",
    "plt.xlabel('r')\n",
    "plt.ylabel('Y_{l}(r)')\n",
    "plt.show()"
   ]
  },
  {
   "cell_type": "markdown",
   "metadata": {},
   "source": [
    "It is obvous that the $Y$-type Bessel function cannot be a solution due to the fact that it diverges when $r$ approaches $0$. Therefore $B=0$ and the oscillations are described purely by a $J$-type Bessel function."
   ]
  },
  {
   "cell_type": "markdown",
   "metadata": {},
   "source": [
    "# Solutions for a circular membrane  \n",
    "  \n",
    "Below is some interactive code that you can play with to show the effect of mode order on the oscillation. Hopefully this will make things a little more intuitive for you."
   ]
  },
  {
   "cell_type": "code",
   "execution_count": null,
   "metadata": {
    "collapsed": false,
    "scrolled": true
   },
   "outputs": [],
   "source": [
    "interact(fig, l =(1,5,1), m = (1,5,1))"
   ]
  },
  {
   "cell_type": "code",
   "execution_count": null,
   "metadata": {
    "collapsed": true
   },
   "outputs": [],
   "source": []
  }
 ],
 "metadata": {
  "anaconda-cloud": {},
  "kernelspec": {
   "display_name": "Python [default]",
   "language": "python",
   "name": "python3"
  },
  "language_info": {
   "codemirror_mode": {
    "name": "ipython",
    "version": 3
   },
   "file_extension": ".py",
   "mimetype": "text/x-python",
   "name": "python",
   "nbconvert_exporter": "python",
   "pygments_lexer": "ipython3",
   "version": "3.5.2"
  },
  "widgets": {
   "state": {
    "ec0c71d003cd49bf9078f7f97ae501d3": {
     "views": [
      {
       "cell_index": 9
      }
     ]
    }
   },
   "version": "1.2.0"
  }
 },
 "nbformat": 4,
 "nbformat_minor": 2
}
