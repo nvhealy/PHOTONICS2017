{
 "cells": [
  {
   "cell_type": "markdown",
   "metadata": {},
   "source": [
    "This notebook has been designed to give you an intuitive understanding of optical fibre parameters"
   ]
  },
  {
   "cell_type": "markdown",
   "metadata": {},
   "source": [
    "# The Weak Guidance Approximation  \n",
    "  \n",
    "When the refractive index contrast is low ($\\Delta < 1\\%$), each polarisation has a neat identical propogation constant and the modes can be described as linearly polarised. This simplified the characteristic equation so that a unified equation can be used: \n",
    "  \n",
    "## The Characteristic Equation  \n",
    "  \n",
    "$$ \\dfrac{J_{l}(u)}{uJ_{l-1}(u)}=-\\dfrac{K_{l}(w)}{wK_{l-1}(w)} $$  \n",
    "  \n",
    "Where $J_{l}$ and $K_{l}$ are Bessel functions of the $l^{th}$ order. $u$ and $w$ anr the core and claddin parameters respectively and are give by:  \n",
    "  \n",
    "$$ u = a\\sqrt{n_{1}^{2}k-\\beta^{2}}$$  \n",
    "  \n",
    "$$ w = a\\sqrt{\\beta^{2}-n_{2}^{2}k}$$  \n",
    "  \n",
    "Where $a$ is the core radius, $\\beta$ is the propogation constant and $n_{1}$ and $n_{2}$ are, respectively, the core and cladding index of the fibre.  \n",
    "$w$ and $u$ are related to the V-number by:  \n",
    "  \n",
    "$$ V = \\sqrt{u^{2}+w^{2}} $$"
   ]
  },
  {
   "cell_type": "code",
   "execution_count": 1,
   "metadata": {
    "collapsed": false
   },
   "outputs": [],
   "source": [
    "%matplotlib inline\n",
    "from IPython.display import Image, display\n",
    "from ipywidgets import interact\n",
    "import numpy as np\n"
   ]
  },
  {
   "cell_type": "code",
   "execution_count": 2,
   "metadata": {
    "collapsed": false,
    "scrolled": true
   },
   "outputs": [
    {
     "data": {
      "text/html": [
       "<script>\n",
       "    // AUTORUN ALL CELLS ON NOTEBOOK-LOAD!\n",
       "    require(\n",
       "        ['base/js/namespace', 'jquery'], \n",
       "        function(jupyter, $) {\n",
       "            $(jupyter.events).on(\"kernel_ready.Kernel\", function () {\n",
       "                console.log(\"Auto-running all cells-below...\");\n",
       "                jupyter.actions.call('jupyter-notebook:run-all-cells-below');\n",
       "                jupyter.actions.call('jupyter-notebook:save-notebook');\n",
       "            });\n",
       "        }\n",
       "    );\n",
       "</script>"
      ],
      "text/plain": [
       "<IPython.core.display.HTML object>"
      ]
     },
     "metadata": {},
     "output_type": "display_data"
    }
   ],
   "source": [
    "%%html\n",
    "<script>\n",
    "    // AUTORUN ALL CELLS ON NOTEBOOK-LOAD!\n",
    "    require(\n",
    "        ['base/js/namespace', 'jquery'], \n",
    "        function(jupyter, $) {\n",
    "            $(jupyter.events).on(\"kernel_ready.Kernel\", function () {\n",
    "                console.log(\"Auto-running all cells-below...\");\n",
    "                jupyter.actions.call('jupyter-notebook:run-all-cells-below');\n",
    "                jupyter.actions.call('jupyter-notebook:save-notebook');\n",
    "            });\n",
    "        }\n",
    "    );\n",
    "</script>"
   ]
  },
  {
   "cell_type": "code",
   "execution_count": 3,
   "metadata": {
    "collapsed": false
   },
   "outputs": [
    {
     "data": {
      "text/html": [
       "<script>\n",
       "code_show=true; \n",
       "function code_toggle() {\n",
       " if (code_show){\n",
       " $('div.input').hide();\n",
       " } else {\n",
       " $('div.input').show();\n",
       " }\n",
       " code_show = !code_show\n",
       "} \n",
       "$( document ).ready(code_toggle);\n",
       "</script>\n",
       "The raw code for this IPython notebook is by default hidden for easier reading.\n",
       "To toggle on/off the raw code, click <a href=\"javascript:code_toggle()\">here</a>"
      ],
      "text/plain": [
       "<IPython.core.display.HTML object>"
      ]
     },
     "metadata": {},
     "output_type": "display_data"
    }
   ],
   "source": [
    "%%html\n",
    "<script>\n",
    "code_show=true; \n",
    "function code_toggle() {\n",
    " if (code_show){\n",
    " $('div.input').hide();\n",
    " } else {\n",
    " $('div.input').show();\n",
    " }\n",
    " code_show = !code_show\n",
    "} \n",
    "$( document ).ready(code_toggle);\n",
    "</script>\n",
    "The raw code for this IPython notebook is by default hidden for easier reading.\n",
    "To toggle on/off the raw code, click <a href=\"javascript:code_toggle()\">here</a>"
   ]
  },
  {
   "cell_type": "code",
   "execution_count": 6,
   "metadata": {
    "collapsed": true
   },
   "outputs": [],
   "source": [
    "def fig(V):\n",
    "    print(\"V-Number = \",V)\n",
    "    if V>3.832:\n",
    "        display(Image(filename='../img/im3.png'))\n",
    "    elif V>2.405:\n",
    "        display(Image(filename='../img/im2.png'))\n",
    "    else:\n",
    "        display(Image(filename='../img/im1.png'))\n",
    "\n",
    "def Vnumber(a, lam):\n",
    "    V = ((2*a*np.pi)/lam)*0.13\n",
    "    fig(V)"
   ]
  },
  {
   "cell_type": "markdown",
   "metadata": {},
   "source": [
    "## Modes and V-number  \n",
    "  \n",
    "The following interactive code allows you to experiment with varying the core size $a$ and/or the wavelength $lam$. By doing so, you should be able to see the effect that this has on the V-number and the supported modes. Notice that changing the V-number changes the propagation constant. i.e. this parameters effect the dispersion."
   ]
  },
  {
   "cell_type": "code",
   "execution_count": 7,
   "metadata": {
    "collapsed": false,
    "scrolled": false
   },
   "outputs": [
    {
     "name": "stdout",
     "output_type": "stream",
     "text": [
      "V-Number =  2.1237166338267004\n"
     ]
    },
    {
     "data": {
      "image/png": "[encoded data removed]",
      "text/plain": [
       "<IPython.core.display.Image object>"
      ]
     },
     "metadata": {},
     "output_type": "display_data"
    }
   ],
   "source": [
    "interact(Vnumber, a =(2,7,0.1), lam = (1.3,1.8,0.1));"
   ]
  },
  {
   "cell_type": "code",
   "execution_count": null,
   "metadata": {
    "collapsed": true
   },
   "outputs": [],
   "source": []
  }
 ],
 "metadata": {
  "anaconda-cloud": {},
  "kernelspec": {
   "display_name": "Python [default]",
   "language": "python",
   "name": "python3"
  },
  "language_info": {
   "codemirror_mode": {
    "name": "ipython",
    "version": 3
   },
   "file_extension": ".py",
   "mimetype": "text/x-python",
   "name": "python",
   "nbconvert_exporter": "python",
   "pygments_lexer": "ipython3",
   "version": "3.5.2"
  },
  "widgets": {
   "state": {
    "d767625bf4c648edab3fb7b6d04edb14": {
     "views": [
      {
       "cell_index": 7
      }
     ]
    }
   },
   "version": "1.2.0"
  }
 },
 "nbformat": 4,
 "nbformat_minor": 2
}
